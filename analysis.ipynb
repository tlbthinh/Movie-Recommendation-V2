{
 "cells": [
  {
   "cell_type": "code",
   "execution_count": 1,
   "id": "919d0a21-0be9-4a88-9595-6300c0c1899c",
   "metadata": {},
   "outputs": [],
   "source": [
    "import pandas as pd\n",
    "import numpy as np\n",
    "from surprise import Dataset, Reader, KNNBasic, SVD\n",
    "from surprise.model_selection import train_test_split\n",
    "from surprise.accuracy import rmse\n",
    "from collections import defaultdict\n",
    "import matplotlib.pyplot as plt\n",
    "import seaborn as sns"
   ]
  },
  {
   "cell_type": "code",
   "execution_count": 2,
   "id": "85dc2a48-659e-4244-86ff-f2bfc3b7e33a",
   "metadata": {},
   "outputs": [],
   "source": [
    "movies = pd.read_csv('./data/movies.dat', sep='::', engine='python',\\\n",
    "                      encoding='latin-1', header=None, \\\n",
    "                        names=[\"movieId\", \"title\", \"genre\"])\n",
    "ratings = pd.read_csv('./data/ratings.dat', sep='::', engine='python', encoding='latin-1',\n",
    "                      header=None, names=['userId', 'movieId','rating', 'timestamp'])\n",
    "users = pd.read_csv('./data/users.dat', sep='::', engine='python',\\\n",
    "                      encoding='latin-1', header=None, \\\n",
    "                        names=[\"userId\", \"gender\", \"age\", \"occupation\", \"zipcode\"])"
   ]
  },
  {
   "cell_type": "markdown",
   "id": "0828ff32-077d-4d82-8d95-d1b1e43f5e8c",
   "metadata": {},
   "source": [
    "# Recommendation models"
   ]
  },
  {
   "cell_type": "markdown",
   "id": "814946f6-9c96-4268-905b-e598ff189306",
   "metadata": {},
   "source": [
    "## Preprocessed\n",
    "- We filter users with at least 200 ratings.\n",
    "- We filter movies with at least 20 ratings.\n",
    "- We merge movies and ratings for training."
   ]
  },
  {
   "cell_type": "code",
   "execution_count": 3,
   "id": "85067efd-0a9b-44c8-8880-1c661369dc0b",
   "metadata": {},
   "outputs": [],
   "source": [
    "ratings_count = ratings.groupby('userId')['rating'].count().reset_index()\n",
    "ratings_count.rename(columns={'rating':'numRatings'},inplace=True)\n",
    "ratings_count = ratings_count[ratings_count['numRatings']>=200]\n",
    "ratings = ratings[ratings['userId'].isin(ratings_count['userId'])]"
   ]
  },
  {
   "cell_type": "code",
   "execution_count": 4,
   "id": "2af925cd-c8c1-4657-b0fa-ffcbbb67d74d",
   "metadata": {},
   "outputs": [
    {
     "data": {
      "text/html": [
       "<div>\n",
       "<style scoped>\n",
       "    .dataframe tbody tr th:only-of-type {\n",
       "        vertical-align: middle;\n",
       "    }\n",
       "\n",
       "    .dataframe tbody tr th {\n",
       "        vertical-align: top;\n",
       "    }\n",
       "\n",
       "    .dataframe thead th {\n",
       "        text-align: right;\n",
       "    }\n",
       "</style>\n",
       "<table border=\"1\" class=\"dataframe\">\n",
       "  <thead>\n",
       "    <tr style=\"text-align: right;\">\n",
       "      <th></th>\n",
       "      <th>movieId</th>\n",
       "      <th>title</th>\n",
       "      <th>genre</th>\n",
       "    </tr>\n",
       "  </thead>\n",
       "  <tbody>\n",
       "    <tr>\n",
       "      <th>50</th>\n",
       "      <td>51</td>\n",
       "      <td>Guardian Angel (1994)</td>\n",
       "      <td>Action|Drama|Thriller</td>\n",
       "    </tr>\n",
       "    <tr>\n",
       "      <th>107</th>\n",
       "      <td>109</td>\n",
       "      <td>Headless Body in Topless Bar (1995)</td>\n",
       "      <td>Comedy</td>\n",
       "    </tr>\n",
       "    <tr>\n",
       "      <th>113</th>\n",
       "      <td>115</td>\n",
       "      <td>Happiness Is in the Field (1995)</td>\n",
       "      <td>Comedy</td>\n",
       "    </tr>\n",
       "    <tr>\n",
       "      <th>125</th>\n",
       "      <td>127</td>\n",
       "      <td>Silence of the Palace, The (Saimt el Qusur) (1...</td>\n",
       "      <td>Drama</td>\n",
       "    </tr>\n",
       "    <tr>\n",
       "      <th>131</th>\n",
       "      <td>133</td>\n",
       "      <td>Nueba Yol (1995)</td>\n",
       "      <td>Comedy|Drama</td>\n",
       "    </tr>\n",
       "  </tbody>\n",
       "</table>\n",
       "</div>"
      ],
      "text/plain": [
       "     movieId                                              title  \\\n",
       "50        51                              Guardian Angel (1994)   \n",
       "107      109                Headless Body in Topless Bar (1995)   \n",
       "113      115                   Happiness Is in the Field (1995)   \n",
       "125      127  Silence of the Palace, The (Saimt el Qusur) (1...   \n",
       "131      133                                   Nueba Yol (1995)   \n",
       "\n",
       "                     genre  \n",
       "50   Action|Drama|Thriller  \n",
       "107                 Comedy  \n",
       "113                 Comedy  \n",
       "125                  Drama  \n",
       "131           Comedy|Drama  "
      ]
     },
     "execution_count": 4,
     "metadata": {},
     "output_type": "execute_result"
    }
   ],
   "source": [
    "# rated_movie_ids = ratings['movieId'].unique()\n",
    "# movies_not_in_ratings = movies[~movies['movieId'].isin(rated_movie_ids)]\n",
    "# movies_not_in_ratings.head()"
   ]
  },
  {
   "cell_type": "code",
   "execution_count": 5,
   "id": "fe927774-58f0-498d-bc9a-c0ce72dada75",
   "metadata": {},
   "outputs": [],
   "source": [
    "movies_ratings = pd.merge(movies, ratings, on='movieId')\n",
    "selected_movies = movies_ratings.groupby('movieId')['rating'].count().reset_index()\n",
    "selected_movies  = selected_movies[selected_movies['rating']>=20]"
   ]
  },
  {
   "cell_type": "code",
   "execution_count": 6,
   "id": "6222e72d-a473-4d1d-8d85-7f9ddc0e023e",
   "metadata": {},
   "outputs": [
    {
     "data": {
      "text/html": [
       "<div>\n",
       "<style scoped>\n",
       "    .dataframe tbody tr th:only-of-type {\n",
       "        vertical-align: middle;\n",
       "    }\n",
       "\n",
       "    .dataframe tbody tr th {\n",
       "        vertical-align: top;\n",
       "    }\n",
       "\n",
       "    .dataframe thead th {\n",
       "        text-align: right;\n",
       "    }\n",
       "</style>\n",
       "<table border=\"1\" class=\"dataframe\">\n",
       "  <thead>\n",
       "    <tr style=\"text-align: right;\">\n",
       "      <th></th>\n",
       "      <th>movieId</th>\n",
       "      <th>num_ratings</th>\n",
       "    </tr>\n",
       "  </thead>\n",
       "  <tbody>\n",
       "    <tr>\n",
       "      <th>0</th>\n",
       "      <td>1</td>\n",
       "      <td>1048</td>\n",
       "    </tr>\n",
       "    <tr>\n",
       "      <th>1</th>\n",
       "      <td>2</td>\n",
       "      <td>492</td>\n",
       "    </tr>\n",
       "    <tr>\n",
       "      <th>2</th>\n",
       "      <td>3</td>\n",
       "      <td>326</td>\n",
       "    </tr>\n",
       "    <tr>\n",
       "      <th>3</th>\n",
       "      <td>4</td>\n",
       "      <td>142</td>\n",
       "    </tr>\n",
       "    <tr>\n",
       "      <th>4</th>\n",
       "      <td>5</td>\n",
       "      <td>234</td>\n",
       "    </tr>\n",
       "  </tbody>\n",
       "</table>\n",
       "</div>"
      ],
      "text/plain": [
       "   movieId  num_ratings\n",
       "0        1         1048\n",
       "1        2          492\n",
       "2        3          326\n",
       "3        4          142\n",
       "4        5          234"
      ]
     },
     "execution_count": 6,
     "metadata": {},
     "output_type": "execute_result"
    }
   ],
   "source": [
    "selected_movies.rename(columns={'rating':'num_ratings'}, inplace=True)\n",
    "selected_movies.head()"
   ]
  },
  {
   "cell_type": "code",
   "execution_count": 7,
   "id": "3f1778f4-0a88-4ada-9c16-182712bf4c3c",
   "metadata": {},
   "outputs": [
    {
     "data": {
      "text/html": [
       "<div>\n",
       "<style scoped>\n",
       "    .dataframe tbody tr th:only-of-type {\n",
       "        vertical-align: middle;\n",
       "    }\n",
       "\n",
       "    .dataframe tbody tr th {\n",
       "        vertical-align: top;\n",
       "    }\n",
       "\n",
       "    .dataframe thead th {\n",
       "        text-align: right;\n",
       "    }\n",
       "</style>\n",
       "<table border=\"1\" class=\"dataframe\">\n",
       "  <thead>\n",
       "    <tr style=\"text-align: right;\">\n",
       "      <th></th>\n",
       "      <th>movieId</th>\n",
       "      <th>title</th>\n",
       "      <th>genre</th>\n",
       "      <th>userId</th>\n",
       "      <th>rating</th>\n",
       "      <th>timestamp</th>\n",
       "      <th>num_ratings</th>\n",
       "    </tr>\n",
       "  </thead>\n",
       "  <tbody>\n",
       "    <tr>\n",
       "      <th>0</th>\n",
       "      <td>1</td>\n",
       "      <td>Toy Story (1995)</td>\n",
       "      <td>Animation|Children's|Comedy</td>\n",
       "      <td>10</td>\n",
       "      <td>5</td>\n",
       "      <td>978226474</td>\n",
       "      <td>1048</td>\n",
       "    </tr>\n",
       "    <tr>\n",
       "      <th>1</th>\n",
       "      <td>1</td>\n",
       "      <td>Toy Story (1995)</td>\n",
       "      <td>Animation|Children's|Comedy</td>\n",
       "      <td>18</td>\n",
       "      <td>4</td>\n",
       "      <td>978154768</td>\n",
       "      <td>1048</td>\n",
       "    </tr>\n",
       "    <tr>\n",
       "      <th>2</th>\n",
       "      <td>1</td>\n",
       "      <td>Toy Story (1995)</td>\n",
       "      <td>Animation|Children's|Comedy</td>\n",
       "      <td>19</td>\n",
       "      <td>5</td>\n",
       "      <td>978555994</td>\n",
       "      <td>1048</td>\n",
       "    </tr>\n",
       "    <tr>\n",
       "      <th>3</th>\n",
       "      <td>1</td>\n",
       "      <td>Toy Story (1995)</td>\n",
       "      <td>Animation|Children's|Comedy</td>\n",
       "      <td>23</td>\n",
       "      <td>4</td>\n",
       "      <td>978463614</td>\n",
       "      <td>1048</td>\n",
       "    </tr>\n",
       "    <tr>\n",
       "      <th>4</th>\n",
       "      <td>1</td>\n",
       "      <td>Toy Story (1995)</td>\n",
       "      <td>Animation|Children's|Comedy</td>\n",
       "      <td>26</td>\n",
       "      <td>3</td>\n",
       "      <td>978130703</td>\n",
       "      <td>1048</td>\n",
       "    </tr>\n",
       "  </tbody>\n",
       "</table>\n",
       "</div>"
      ],
      "text/plain": [
       "   movieId             title                        genre  userId  rating  \\\n",
       "0        1  Toy Story (1995)  Animation|Children's|Comedy      10       5   \n",
       "1        1  Toy Story (1995)  Animation|Children's|Comedy      18       4   \n",
       "2        1  Toy Story (1995)  Animation|Children's|Comedy      19       5   \n",
       "3        1  Toy Story (1995)  Animation|Children's|Comedy      23       4   \n",
       "4        1  Toy Story (1995)  Animation|Children's|Comedy      26       3   \n",
       "\n",
       "   timestamp  num_ratings  \n",
       "0  978226474         1048  \n",
       "1  978154768         1048  \n",
       "2  978555994         1048  \n",
       "3  978463614         1048  \n",
       "4  978130703         1048  "
      ]
     },
     "execution_count": 7,
     "metadata": {},
     "output_type": "execute_result"
    }
   ],
   "source": [
    "final_df = movies_ratings.merge(selected_movies, on='movieId')\n",
    "final_df.head()"
   ]
  },
  {
   "cell_type": "markdown",
   "id": "91763033-6c47-4c57-a749-deb626915fa8",
   "metadata": {},
   "source": [
    "## Split data"
   ]
  },
  {
   "cell_type": "code",
   "execution_count": 8,
   "id": "7b9ea5da-18ed-406e-826b-1db86a3e3ca1",
   "metadata": {},
   "outputs": [],
   "source": [
    "reader = Reader(rating_scale=(1, 5))\n",
    "data = Dataset.load_from_df(final_df[['userId', 'movieId', 'rating']], reader)"
   ]
  },
  {
   "cell_type": "code",
   "execution_count": 9,
   "id": "48a85802-63b9-44a7-83ad-74d0bca77f86",
   "metadata": {},
   "outputs": [],
   "source": [
    "trainset, testset = train_test_split(data, test_size=0.2, random_state=20)"
   ]
  },
  {
   "cell_type": "markdown",
   "id": "ec8b46ae-f0e9-4cac-8cf6-76bde287b8f0",
   "metadata": {},
   "source": [
    "## KNN"
   ]
  },
  {
   "cell_type": "markdown",
   "id": "1912d906-a1ee-467b-a056-a6ad9e1bfc03",
   "metadata": {},
   "source": [
    "### Train\n",
    "- We choose item-based here because our task is to recommend `k` movies similar to a given `movie_name` using"
   ]
  },
  {
   "cell_type": "code",
   "execution_count": 20,
   "id": "3cae011b-0a53-4829-a731-d3a1bf9397a9",
   "metadata": {},
   "outputs": [
    {
     "name": "stdout",
     "output_type": "stream",
     "text": [
      "Estimating biases using als...\n",
      "Computing the pearson_baseline similarity matrix...\n",
      "Done computing similarity matrix.\n"
     ]
    },
    {
     "data": {
      "text/plain": [
       "<surprise.prediction_algorithms.knns.KNNBasic at 0x173eabd4470>"
      ]
     },
     "execution_count": 20,
     "metadata": {},
     "output_type": "execute_result"
    }
   ],
   "source": [
    "sim_options = {\"name\": \"pearson_baseline\", \"user_based\": False}\n",
    "model = KNNBasic(k=20, sim_options=sim_options)\n",
    "model.fit(trainset)"
   ]
  },
  {
   "cell_type": "markdown",
   "id": "abda5359-b832-4438-8561-e8c2e270aab6",
   "metadata": {},
   "source": [
    "### Evaluation"
   ]
  },
  {
   "cell_type": "code",
   "execution_count": 21,
   "id": "584d1d02-4594-4e1f-9f8a-6ce4da9801f8",
   "metadata": {},
   "outputs": [
    {
     "name": "stdout",
     "output_type": "stream",
     "text": [
      "RMSE: 0.9110\n",
      "RMSE=0.91101\n"
     ]
    }
   ],
   "source": [
    "predictions = model.test(testset)\n",
    "print(f\"RMSE={rmse(predictions):.5f}\")"
   ]
  },
  {
   "cell_type": "code",
   "execution_count": 22,
   "id": "09b3e115-5d13-4f5f-98be-996231e6f3c8",
   "metadata": {},
   "outputs": [
    {
     "name": "stdout",
     "output_type": "stream",
     "text": [
      "Precision@5: 0.859\n",
      "Precision@10: 0.828\n",
      "Precision@15: 0.804\n"
     ]
    }
   ],
   "source": [
    "def precision_at_k(predictions, k, threshold=4.0):\n",
    "    user_est_true = defaultdict(list)\n",
    "    for pred in predictions:\n",
    "        user_est_true[pred.uid].append((pred.est, pred.r_ui))\n",
    "    precisions = []\n",
    "    for uid, ratings in user_est_true.items():\n",
    "        ratings.sort(reverse=True)\n",
    "        top_k = ratings[:k]\n",
    "        n_relevant = sum(1 for est, true in top_k if true >= threshold)\n",
    "        precisions.append(n_relevant / k)\n",
    "    return sum(precisions) / len(precisions) if precisions else 0\n",
    "\n",
    "for k in [5, 10, 15]:\n",
    "    print(f\"Precision@{k}: {precision_at_k(predictions, k):.3f}\")"
   ]
  },
  {
   "cell_type": "markdown",
   "id": "17dbffc0-28c0-43ab-9bcf-9ad3ec4a67c7",
   "metadata": {},
   "source": [
    "## Matrix factorization"
   ]
  },
  {
   "cell_type": "markdown",
   "id": "e2ce71ec-a580-44f9-8374-974d91f541e8",
   "metadata": {},
   "source": [
    "### Train"
   ]
  },
  {
   "cell_type": "code",
   "execution_count": 13,
   "id": "e6e3423d-ff02-4935-b445-1d5d5b04c043",
   "metadata": {},
   "outputs": [],
   "source": [
    "model = SVD()\n",
    "model.fit(trainset)\n",
    "svd_predictions = model.test(testset)"
   ]
  },
  {
   "cell_type": "markdown",
   "id": "21dc723e-2583-46e7-968b-c9ae4c79ecd1",
   "metadata": {},
   "source": [
    "### Evaluation"
   ]
  },
  {
   "cell_type": "code",
   "execution_count": 14,
   "id": "31933ec9-0932-4d34-8c5f-c22a5d9c2c5a",
   "metadata": {},
   "outputs": [
    {
     "name": "stdout",
     "output_type": "stream",
     "text": [
      "RMSE: 0.8542\n",
      "RMSE (SVD): 0.854\n"
     ]
    }
   ],
   "source": [
    "print(f\"RMSE (SVD): {rmse(svd_predictions):.3f}\")"
   ]
  },
  {
   "cell_type": "code",
   "execution_count": 15,
   "id": "c3873f14-7a9a-4de7-ac81-032af29b3c9a",
   "metadata": {},
   "outputs": [
    {
     "name": "stdout",
     "output_type": "stream",
     "text": [
      "Precision@5: 0.893\n",
      "Precision@10: 0.858\n",
      "Precision@15: 0.832\n"
     ]
    }
   ],
   "source": [
    "for k in [5, 10, 15]:\n",
    "    print(f\"Precision@{k}: {precision_at_k(svd_predictions, k):.3f}\")"
   ]
  },
  {
   "cell_type": "markdown",
   "id": "8e15d067-93d8-4368-9521-9c06d2a0ecbd",
   "metadata": {},
   "source": [
    "## Perfomance visualization\n",
    "Interpretation\n",
    "- RMSE: Lower is better --> SVD wins here.\n",
    "- Precision@k: Higher is better --> SVD’s line is above kNN’s, showing better recommendation quality.\n",
    "\n",
    "--> SVD wins both despite not much difference"
   ]
  },
  {
   "cell_type": "code",
   "execution_count": 23,
   "id": "becb3424-8dc9-42b6-a912-306b1855d66e",
   "metadata": {},
   "outputs": [],
   "source": [
    "knn_rmse = rmse(predictions, verbose=False)\n",
    "svd_rmse = rmse(svd_predictions, verbose=False)\n",
    "\n",
    "knn_prec_5 = precision_at_k(predictions, k=5)\n",
    "knn_prec_10 = precision_at_k(predictions, k=10)\n",
    "knn_prec_15 = precision_at_k(predictions, k=15)\n",
    "\n",
    "svd_prec_5 = precision_at_k(svd_predictions, k=5)\n",
    "svd_prec_10 = precision_at_k(svd_predictions, k=10)\n",
    "svd_prec_15 = precision_at_k(svd_predictions, k=15)"
   ]
  },
  {
   "cell_type": "code",
   "execution_count": 24,
   "id": "4948d65e-14f4-4ecf-a705-9df146e6a4fe",
   "metadata": {},
   "outputs": [],
   "source": [
    "results = {\n",
    "    'Model': ['kNN', 'SVD'],\n",
    "    'RMSE': [knn_rmse, svd_rmse],\n",
    "    'Precision@5': [knn_prec_5, svd_prec_5],\n",
    "    'Precision@10': [knn_prec_10, svd_prec_10],\n",
    "    'Precision@15': [knn_prec_15, svd_prec_15]\n",
    "}\n",
    "results_df = pd.DataFrame(results)"
   ]
  },
  {
   "cell_type": "code",
   "execution_count": 26,
   "id": "bd14e68e-4b92-4f80-89bf-fd2634b94afb",
   "metadata": {},
   "outputs": [
    {
     "data": {
      "image/png": "[encoded data removed]",
      "text/plain": [
       "<Figure size 1000x600 with 1 Axes>"
      ]
     },
     "metadata": {},
     "output_type": "display_data"
    }
   ],
   "source": [
    "results_melted = results_df.melt(id_vars=['Model'], var_name='Metric', value_name='Value')\n",
    "plt.figure(figsize=(10, 6))\n",
    "sns.barplot(x='Metric', y='Value', hue='Model', data=results_melted)\n",
    "plt.title('Performance Comparison: kNN vs. SVD')\n",
    "plt.ylabel('Score')\n",
    "plt.xlabel('Metric')\n",
    "plt.legend(title='Model')\n",
    "plt.show()"
   ]
  },
  {
   "cell_type": "code",
   "execution_count": 27,
   "id": "ca104724-9f47-4e56-b108-021e07d14cc6",
   "metadata": {},
   "outputs": [
    {
     "name": "stderr",
     "output_type": "stream",
     "text": [
      "<>:2: SyntaxWarning: invalid escape sequence '\\d'\n",
      "<>:2: SyntaxWarning: invalid escape sequence '\\d'\n",
      "C:\\Users\\ACER\\AppData\\Local\\Temp\\ipykernel_8676\\1263159818.py:2: SyntaxWarning: invalid escape sequence '\\d'\n",
      "  precision_data['k'] = precision_data['k'].str.extract('(\\d+)').astype(int)\n"
     ]
    },
    {
     "data": {
      "image/png": "[encoded data removed]",
      "text/plain": [
       "<Figure size 800x500 with 1 Axes>"
      ]
     },
     "metadata": {},
     "output_type": "display_data"
    }
   ],
   "source": [
    "precision_data = results_df[['Model', 'Precision@5', 'Precision@10', 'Precision@15']].melt(id_vars=['Model'], var_name='k', value_name='Precision')\n",
    "precision_data['k'] = precision_data['k'].str.extract('(\\d+)').astype(int)\n",
    "plt.figure(figsize=(8, 5))\n",
    "sns.lineplot(x='k', y='Precision', hue='Model', marker='o', data=precision_data)\n",
    "plt.title('Precision@k: kNN vs. SVD')\n",
    "plt.xlabel('k')\n",
    "plt.ylabel('Precision')\n",
    "plt.xticks([5, 10, 15])\n",
    "plt.legend(title='Model')\n",
    "plt.show()"
   ]
  },
  {
   "cell_type": "markdown",
   "id": "581838fb-583c-468c-9018-e94c22e75315",
   "metadata": {},
   "source": [
    "## Save model"
   ]
  },
  {
   "cell_type": "code",
   "execution_count": 28,
   "id": "00132850-cbfe-4bc0-8cc1-b7ccc61740ff",
   "metadata": {},
   "outputs": [],
   "source": [
    "import pickle\n",
    "\n",
    "data = Dataset.load_from_df(final_df[['userId', 'movieId', 'rating']], reader)\n",
    "trainset = data.build_full_trainset()"
   ]
  },
  {
   "cell_type": "code",
   "execution_count": 30,
   "id": "4501bdd9-3a60-440b-bddd-047bc2ecb9b8",
   "metadata": {},
   "outputs": [
    {
     "name": "stdout",
     "output_type": "stream",
     "text": [
      "Estimating biases using als...\n",
      "Computing the pearson_baseline similarity matrix...\n",
      "Done computing similarity matrix.\n"
     ]
    }
   ],
   "source": [
    "sim_options = {\"name\": \"pearson_baseline\", \"user_based\": False}\n",
    "model = KNNBasic(k=20, sim_options=sim_options)\n",
    "model.fit(trainset)\n",
    "with open('./checkpoint/knn_model.pkl', 'wb') as f:\n",
    "    pickle.dump(model, f)"
   ]
  },
  {
   "cell_type": "code",
   "execution_count": 28,
   "id": "396d7b25-3fb6-4b3d-afa6-de5d18b6fcd6",
   "metadata": {},
   "outputs": [],
   "source": [
    "reader = Reader(rating_scale=(1, 5))\n",
    "model = SVD()\n",
    "model.fit(trainset)\n",
    "with open('./checkpoint/svd_model.pkl', 'wb') as f:\n",
    "    pickle.dump(model, f)"
   ]
  }
 ],
 "metadata": {
  "kernelspec": {
   "display_name": "pytorch-gpu",
   "language": "python",
   "name": "pytorch-gpu"
  },
  "language_info": {
   "codemirror_mode": {
    "name": "ipython",
    "version": 3
   },
   "file_extension": ".py",
   "mimetype": "text/x-python",
   "name": "python",
   "nbconvert_exporter": "python",
   "pygments_lexer": "ipython3",
   "version": "3.12.7"
  }
 },
 "nbformat": 4,
 "nbformat_minor": 5
}
